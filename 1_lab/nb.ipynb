{
  "metadata": {
    "kernelspec": {
      "name": "python",
      "display_name": "Python (Pyodide)",
      "language": "python"
    },
    "language_info": {
      "codemirror_mode": {
        "name": "python",
        "version": 3
      },
      "file_extension": ".py",
      "mimetype": "text/x-python",
      "name": "python",
      "nbconvert_exporter": "python",
      "pygments_lexer": "ipython3",
      "version": "3.8"
    }
  },
  "nbformat_minor": 4,
  "nbformat": 4,
  "cells": [
    {
      "cell_type": "markdown",
      "source": "## Пояснення коду",
      "metadata": {}
    },
    {
      "cell_type": "code",
      "source": "from datetime import datetime # імпорт бібліотек\nname = \"Vlad\" # індефікація змін\nlocation = \"London\" # індефікація змін\n\nprint(f\"{name} start programming at {datetime.now()}. {location} is the best city!\") # вивід команди print",
      "metadata": {
        "trusted": true
      },
      "outputs": [
        {
          "name": "stdout",
          "text": "Vlad start programming at 2023-12-21 18:02:59.036000. London is the best city!\n",
          "output_type": "stream"
        }
      ],
      "execution_count": 2
    },
    {
      "cell_type": "markdown",
      "source": "## Програма від штучного інтелекту",
      "metadata": {}
    },
    {
      "cell_type": "code",
      "source": "def привітання(ім_я):\n    return \"Привіт, \" + ім_я + \"!\"\n\n# Приклад виклику функції\nім_я_користувача = \"Невідомий\"\nпривітання_користувача = привітання(ім_я_користувача)\nprint(привітання_користувача)\n",
      "metadata": {
        "trusted": true
      },
      "outputs": [
        {
          "name": "stdout",
          "text": "Привіт, Невідомий!\n",
          "output_type": "stream"
        }
      ],
      "execution_count": 1
    }
  ]
}