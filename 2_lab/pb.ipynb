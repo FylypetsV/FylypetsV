{
  "metadata": {
    "kernelspec": {
      "name": "python",
      "display_name": "Python (Pyodide)",
      "language": "python"
    },
    "language_info": {
      "codemirror_mode": {
        "name": "python",
        "version": 3
      },
      "file_extension": ".py",
      "mimetype": "text/x-python",
      "name": "python",
      "nbconvert_exporter": "python",
      "pygments_lexer": "ipython3",
      "version": "3.8"
    }
  },
  "nbformat_minor": 4,
  "nbformat": 4,
  "cells": [
    {
      "cell_type": "markdown",
      "source": "### Основні типи даних",
      "metadata": {}
    },
    {
      "cell_type": "code",
      "source": "a = \"змінна з текстом\"\nb = 1  # числова Змінна\nc = [\"a\", 1, 1.25, \"Слово\"]  # List\nd = {\"a\": \"Слово\", \"b\": 1}  # Dict\ne = (\"a\",)  # Tuple\nf = {\"ss\", }  # Set\nprint (a,b,c,d,e,f)",
      "metadata": {
        "trusted": true
      },
      "outputs": [
        {
          "name": "stdout",
          "text": "змінна з текстом 1 ['a', 1, 1.25, 'Слово'] {'a': 'Слово', 'b': 1} ('a',) {'ss'}\n",
          "output_type": "stream"
        }
      ],
      "execution_count": 7
    },
    {
      "cell_type": "markdown",
      "source": "### Виведення вбудованих констант",
      "metadata": {}
    },
    {
      "cell_type": "code",
      "source": "print(\"Перша константа:\", True)\nprint(\"Друга константа:\", None)",
      "metadata": {
        "trusted": true
      },
      "outputs": [
        {
          "name": "stdout",
          "text": "Перша константа: True\nДруга константа: None\n",
          "output_type": "stream"
        }
      ],
      "execution_count": 8
    },
    {
      "cell_type": "markdown",
      "source": "### Виведення результатів роботи вбудованих функцій",
      "metadata": {}
    },
    {
      "cell_type": "code",
      "source": "print(\"Модуль числа:\", abs(-15))\nprint(f\"Порівняння модулю числа: {abs(-15)} є рівним {abs(15)}\")",
      "metadata": {
        "trusted": true
      },
      "outputs": [
        {
          "name": "stdout",
          "text": "Модуль числа: 15\nПорівняння модулю числа: 15 є рівним 15\n",
          "output_type": "stream"
        }
      ],
      "execution_count": 9
    },
    {
      "cell_type": "markdown",
      "source": "### Робота з циклами",
      "metadata": {}
    },
    {
      "cell_type": "code",
      "source": "fruits = [\"apple\", \"orange\", \"banana\"]\nfor index, fruit in enumerate(fruits):\n    print(f\"На позиції {index} знаходиться фрукт: {fruit}\")",
      "metadata": {
        "trusted": true
      },
      "outputs": [
        {
          "name": "stdout",
          "text": "На позиції 0 знаходиться фрукт: apple\nНа позиції 1 знаходиться фрукт: orange\nНа позиції 2 знаходиться фрукт: banana\n",
          "output_type": "stream"
        }
      ],
      "execution_count": 10
    },
    {
      "cell_type": "markdown",
      "source": "### Робота з розгалуженнями",
      "metadata": {}
    },
    {
      "cell_type": "code",
      "source": "is_python_fun = True\nprint(\"Це Python веселий!\" if is_python_fun else \"Це не так весело :(\")",
      "metadata": {
        "trusted": true
      },
      "outputs": [
        {
          "name": "stdout",
          "text": "Це Python веселий!\n",
          "output_type": "stream"
        }
      ],
      "execution_count": 11
    },
    {
      "cell_type": "markdown",
      "source": "### Конструкція try->except->finally",
      "metadata": {}
    },
    {
      "cell_type": "code",
      "source": "divisor = 0\ntry:\n    result = 10 / divisor\n    print(\"Результат ділення:\", result)\nexcept ZeroDivisionError as e:\n    print(f\"Помилка: {e}\")\nfinally:\n    print(\"Виконується завжди!\")",
      "metadata": {
        "trusted": true
      },
      "outputs": [
        {
          "name": "stdout",
          "text": "Помилка: division by zero\nВиконується завжди!\n",
          "output_type": "stream"
        }
      ],
      "execution_count": 12
    },
    {
      "cell_type": "markdown",
      "source": "### Контекст-менеджер with",
      "metadata": {}
    },
    {
      "cell_type": "code",
      "source": "with open(\"example.txt\", \"w\") as file:\n    file.write(\"Це приклад для контекст-менеджера.\")",
      "metadata": {
        "trusted": true
      },
      "outputs": [],
      "execution_count": 13
    },
    {
      "cell_type": "markdown",
      "source": "### Python lambdas",
      "metadata": {}
    },
    {
      "cell_type": "code",
      "source": "power_of_two = lambda x: x ** 2\nprint(\"Квадрат числа 5:\", power_of_two(5))\n\nfull_name = lambda first, last: f'Повне ім\\'я: {first} {last}'\nprint(full_name(\"Іван\", \"Петров\"))",
      "metadata": {
        "trusted": true
      },
      "outputs": [
        {
          "name": "stdout",
          "text": "Квадрат числа 5: 25\nПовне ім'я: Іван Петров\n",
          "output_type": "stream"
        }
      ],
      "execution_count": 14
    }
  ]
}