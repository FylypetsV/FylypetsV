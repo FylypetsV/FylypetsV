{
  "metadata": {
    "kernelspec": {
      "name": "python",
      "display_name": "Python (Pyodide)",
      "language": "python"
    },
    "language_info": {
      "codemirror_mode": {
        "name": "python",
        "version": 3
      },
      "file_extension": ".py",
      "mimetype": "text/x-python",
      "name": "python",
      "nbconvert_exporter": "python",
      "pygments_lexer": "ipython3",
      "version": "3.8"
    }
  },
  "nbformat_minor": 4,
  "nbformat": 4,
  "cells": [
    {
      "cell_type": "code",
      "source": "class MyName:\n    \"\"\"Опис класу / Документація\n    \"\"\"\n    total_names = 0  # Class Variable\n\n    def __init__(self, name=None) -> None:\n        self.name = name if name is not None else self.anonymous_user().name  # Class attributes / Instance variables\n        MyName.total_names += 1  # modify class variable\n        self.my_id = self.total_names\n\n    @property\n    def whoami(self):\n        \"\"\"Class property\n        return: повертаємо імя \n        \"\"\"\n        return f\"My name is {self.name}\"\n\n    @property\n    def my_email(self) -> str:\n        \"\"\"Class property\n        return: повертаємо емейл\n        \"\"\"\n        return self.create_email()\n\n    def create_email(self) -> str:\n        \"\"\"Instance method\n        \"\"\"\n        return f\"{self.name}@itcollege.lviv.ua\"\n\n    @classmethod\n    def anonymous_user(cls):\n        \"\"\"Classs method\n        \"\"\"\n        return cls(\"Anonymous\")\n\n    @staticmethod\n    def say_hello(message=\"Hello to everyone!\"):\n        \"\"\"Static method\n        \"\"\"\n        return f\"You say: {message}\"\n\n    def count_letters_in_name(self):\n        \"\"\"Instance method to count letters in the name\n        \"\"\"\n        return len(self.name)\n\n# Модифікований код для виклику методу say_hello() з іншим текстом\nprint(MyName.say_hello(\"0-0-0-0-0-0\"))\n\nprint(\"Let's Start!\")\n\nnames = (\"Bohdan\", \"Marta\", None, \"Vlad\")  # Додав своє ім'я до списку\nall_names = {name: MyName(name) for name in names}\n\nfor name, me in all_names.items():\n    print(f\"\"\"{\">*<\"*20}\nThis is object: {me} \nThis is object attribute: {me.name} / {me.my_id}\nThis is {type(MyName.whoami)}: {me.whoami} / {me.my_email}\nThis is {type(me.create_email)} call: {me.create_email()}\nThis is static {type(MyName.say_hello)} with defaults: {me.say_hello()} \nThis is class variable {type(MyName.total_names)}: from class {MyName.total_names} / from object {me.total_names}\nCount of letters in the name: {me.count_letters_in_name()}\n{\"<*>\"*20}\"\"\")\n\nprint(f\"We are done. We create {me.total_names} names! Now it's {MyName.total_names}.\")\n",
      "metadata": {
        "trusted": true
      },
      "outputs": [
        {
          "name": "stdout",
          "text": "You say: 0-0-0-0-0-0\nLet's Start!\n>*<>*<>*<>*<>*<>*<>*<>*<>*<>*<>*<>*<>*<>*<>*<>*<>*<>*<>*<>*<\nThis is object: <__main__.MyName object at 0x22880d8> \nThis is object attribute: Bohdan / 1\nThis is <class 'property'>: My name is Bohdan / Bohdan@itcollege.lviv.ua\nThis is <class 'method'> call: Bohdan@itcollege.lviv.ua\nThis is static <class 'function'> with defaults: You say: Hello to everyone! \nThis is class variable <class 'int'>: from class 5 / from object 5\nCount of letters in the name: 6\n<*><*><*><*><*><*><*><*><*><*><*><*><*><*><*><*><*><*><*><*>\n>*<>*<>*<>*<>*<>*<>*<>*<>*<>*<>*<>*<>*<>*<>*<>*<>*<>*<>*<>*<\nThis is object: <__main__.MyName object at 0x1fa1c70> \nThis is object attribute: Marta / 2\nThis is <class 'property'>: My name is Marta / Marta@itcollege.lviv.ua\nThis is <class 'method'> call: Marta@itcollege.lviv.ua\nThis is static <class 'function'> with defaults: You say: Hello to everyone! \nThis is class variable <class 'int'>: from class 5 / from object 5\nCount of letters in the name: 5\n<*><*><*><*><*><*><*><*><*><*><*><*><*><*><*><*><*><*><*><*>\n>*<>*<>*<>*<>*<>*<>*<>*<>*<>*<>*<>*<>*<>*<>*<>*<>*<>*<>*<>*<\nThis is object: <__main__.MyName object at 0x22a9d28> \nThis is object attribute: Anonymous / 4\nThis is <class 'property'>: My name is Anonymous / Anonymous@itcollege.lviv.ua\nThis is <class 'method'> call: Anonymous@itcollege.lviv.ua\nThis is static <class 'function'> with defaults: You say: Hello to everyone! \nThis is class variable <class 'int'>: from class 5 / from object 5\nCount of letters in the name: 9\n<*><*><*><*><*><*><*><*><*><*><*><*><*><*><*><*><*><*><*><*>\n>*<>*<>*<>*<>*<>*<>*<>*<>*<>*<>*<>*<>*<>*<>*<>*<>*<>*<>*<>*<\nThis is object: <__main__.MyName object at 0x1db89c8> \nThis is object attribute: Vlad / 5\nThis is <class 'property'>: My name is Vlad / Vlad@itcollege.lviv.ua\nThis is <class 'method'> call: Vlad@itcollege.lviv.ua\nThis is static <class 'function'> with defaults: You say: Hello to everyone! \nThis is class variable <class 'int'>: from class 5 / from object 5\nCount of letters in the name: 4\n<*><*><*><*><*><*><*><*><*><*><*><*><*><*><*><*><*><*><*><*>\nWe are done. We create 5 names! Now it's 5.\n",
          "output_type": "stream"
        }
      ],
      "execution_count": 1
    },
    {
      "cell_type": "code",
      "source": "",
      "metadata": {
        "trusted": true
      },
      "outputs": [],
      "execution_count": null
    }
  ]
}